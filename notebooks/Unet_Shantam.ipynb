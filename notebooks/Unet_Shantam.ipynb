{
 "cells": [
  {
   "cell_type": "code",
   "execution_count": 1,
   "metadata": {},
   "outputs": [],
   "source": [
    "import os\n",
    "import time\n",
    "import argparse\n",
    "import numpy as np\n",
    "import torch\n",
    "import torch.nn as nn\n",
    "from torch.utils.data import DataLoader\n",
    "from torchvision import datasets, models, transforms\n",
    "from torchvision.utils import make_grid\n",
    "from sklearn.metrics import confusion_matrix"
   ]
  },
  {
   "cell_type": "code",
   "execution_count": 2,
   "metadata": {},
   "outputs": [
    {
     "name": "stdout",
     "output_type": "stream",
     "text": [
      "torch.Size([1, 1024, 28, 28])\n"
     ]
    }
   ],
   "source": [
    "def double_conv(in_c, out_c):\n",
    "    conv = nn.Sequential(nn.Conv2d(in_c, out_c, kernel_size = 3),\n",
    "                         nn.ReLU(inplace=True),\n",
    "                         nn.Conv2d(out_c, out_c, kernel_size = 3),\n",
    "                         nn.ReLU(inplace=True))\n",
    "    return conv\n",
    "\n",
    "class UNet(nn.Module):\n",
    "    \n",
    "    def __init__(self):\n",
    "        super(UNet, self).__init__()\n",
    "        self.max_pool_2x2 = nn.MaxPool2d(kernel_size = 2, stride = 2)\n",
    "        self.down_conv_1 = double_conv(1,64)\n",
    "        self.down_conv_2 = double_conv(64,128)\n",
    "        self.down_conv_3 = double_conv(128,256)\n",
    "        self.down_conv_4 = double_conv(256, 512)\n",
    "        self.down_conv_5 = double_conv(512,1024)\n",
    "    \n",
    "    def forward(self, image):\n",
    "        # Encoder Part of the UNet Architecture\n",
    "        x1 = self.down_conv_1(image)\n",
    "        x2 = self.max_pool_2x2(x1)\n",
    "        x3 = self.down_conv_2(x2)\n",
    "        x4 = self.max_pool_2x2(x3)\n",
    "        x5 = self.down_conv_3(x4)\n",
    "        x6 = self.max_pool_2x2(x5)\n",
    "        x7 = self.down_conv_4(x6)\n",
    "        x8 = self.max_pool_2x2(x7)\n",
    "        x9 = self.down_conv_5(x8)\n",
    "        return x9\n",
    "\n",
    "\n",
    "def test():\n",
    "    image = torch.rand((1,1,572,572))\n",
    "    model = UNet()\n",
    "    y = model(image)\n",
    "    print(y.shape)"
   ]
  },
  {
   "cell_type": "code",
   "execution_count": null,
   "metadata": {},
   "outputs": [],
   "source": []
  }
 ],
 "metadata": {
  "kernelspec": {
   "display_name": "Python 3",
   "language": "python",
   "name": "python3"
  },
  "language_info": {
   "codemirror_mode": {
    "name": "ipython",
    "version": 3
   },
   "file_extension": ".py",
   "mimetype": "text/x-python",
   "name": "python",
   "nbconvert_exporter": "python",
   "pygments_lexer": "ipython3",
   "version": "3.6.10"
  }
 },
 "nbformat": 4,
 "nbformat_minor": 4
}
