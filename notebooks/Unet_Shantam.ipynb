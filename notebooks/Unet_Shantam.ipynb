{
 "cells": [
  {
   "cell_type": "code",
   "execution_count": 1,
   "metadata": {},
   "outputs": [],
   "source": [
    "import os\n",
    "import time\n",
    "import argparse\n",
    "import numpy as np\n",
    "import torch\n",
    "import torch.nn as nn\n",
    "from torch.utils.data import DataLoader\n",
    "from torchvision import datasets, models, transforms\n",
    "from torchvision.utils import make_grid\n",
    "from sklearn.metrics import confusion_matrix"
   ]
  },
  {
   "cell_type": "code",
   "execution_count": 11,
   "metadata": {},
   "outputs": [
    {
     "name": "stdout",
     "output_type": "stream",
     "text": [
      "torch.Size([1, 2, 388, 388])\n"
     ]
    }
   ],
   "source": [
    "def double_conv(in_c, out_c):\n",
    "    conv = nn.Sequential(nn.Conv2d(in_c, out_c, kernel_size = 3),\n",
    "                         nn.ReLU(inplace=True),\n",
    "                         nn.Conv2d(out_c, out_c, kernel_size = 3),\n",
    "                         nn.ReLU(inplace=True))\n",
    "    return conv\n",
    "\n",
    "def crop_image(original_tensor, target_tensor):\n",
    "    target_size = target_tensor.size()[2] #(Batch_size, channels, height, width) as square images [2]=[3]\n",
    "    tensor_size = original_tensor.size()[2]\n",
    "    delta = tensor_size - target_size\n",
    "    delta = delta // 2\n",
    "    return original_tensor[:, :, delta:tensor_size-delta, delta:tensor_size-delta]\n",
    "\n",
    "class UNet(nn.Module):\n",
    "    \n",
    "    def __init__(self):\n",
    "        super(UNet, self).__init__()\n",
    "        self.max_pool_2x2 = nn.MaxPool2d(kernel_size = 2, stride = 2)\n",
    "        self.down_conv_1 = double_conv(1,64)\n",
    "        self.down_conv_2 = double_conv(64,128)\n",
    "        self.down_conv_3 = double_conv(128,256)\n",
    "        self.down_conv_4 = double_conv(256, 512)\n",
    "        self.down_conv_5 = double_conv(512,1024)\n",
    "        \n",
    "        self.up_trans_1 = nn.ConvTranspose2d(in_channels = 1024, out_channels = 512,\n",
    "                                            kernel_size = 2, stride = 2)\n",
    "        self.up_conv_1 = double_conv(1024, 512)\n",
    "        \n",
    "        self.up_trans_2 = nn.ConvTranspose2d(in_channels = 512, out_channels = 256,\n",
    "                                            kernel_size = 2, stride = 2)\n",
    "        self.up_conv_2 = double_conv(512, 256)\n",
    "        \n",
    "        self.up_trans_3 = nn.ConvTranspose2d(in_channels = 256, out_channels = 128,\n",
    "                                            kernel_size = 2, stride = 2)\n",
    "        self.up_conv_3 = double_conv(256, 128)\n",
    "        \n",
    "        self.up_trans_4 = nn.ConvTranspose2d(in_channels = 128, out_channels = 64,\n",
    "                                            kernel_size = 2, stride = 2)\n",
    "        self.up_conv_4 = double_conv(128, 64)\n",
    "        \n",
    "        self.out = nn.Conv2d(in_channels = 64, out_channels = 2, kernel_size = 1)\n",
    "        \n",
    "    def forward(self, image):\n",
    "        # Encoder Part of the UNet Architecture\n",
    "        x1 = self.down_conv_1(image)\n",
    "        x2 = self.max_pool_2x2(x1)\n",
    "        x3 = self.down_conv_2(x2)\n",
    "        x4 = self.max_pool_2x2(x3)\n",
    "        x5 = self.down_conv_3(x4)\n",
    "        x6 = self.max_pool_2x2(x5)\n",
    "        x7 = self.down_conv_4(x6)\n",
    "        x8 = self.max_pool_2x2(x7)\n",
    "        x9 = self.down_conv_5(x8)\n",
    "        \n",
    "        # Decoder part of the UNet Architecture\n",
    "        x = self.up_trans_1(x9)\n",
    "        y = crop_image(x7,x)\n",
    "        x = self.up_conv_1(torch.cat([x,y],1))\n",
    "        \n",
    "        x = self.up_trans_2(x)\n",
    "        y = crop_image(x5,x)\n",
    "        x = self.up_conv_2(torch.cat([x,y],1))\n",
    "        \n",
    "        x = self.up_trans_3(x)\n",
    "        y = crop_image(x3,x)\n",
    "        x = self.up_conv_3(torch.cat([x,y],1))\n",
    "        \n",
    "        x = self.up_trans_4(x)\n",
    "        y = crop_image(x1,x)\n",
    "        x = self.up_conv_4(torch.cat([x,y],1))\n",
    "        # Now Concatenate x with x7\n",
    "        \n",
    "        x = self.out(x)\n",
    "        return x\n",
    "\n",
    "def test():\n",
    "    image = torch.rand((1,1,572,572))\n",
    "    model = UNet()\n",
    "    y = model(image)\n",
    "    print(y.shape)\n",
    "test()"
   ]
  },
  {
   "cell_type": "code",
   "execution_count": null,
   "metadata": {},
   "outputs": [],
   "source": []
  }
 ],
 "metadata": {
  "kernelspec": {
   "display_name": "Python 3",
   "language": "python",
   "name": "python3"
  },
  "language_info": {
   "codemirror_mode": {
    "name": "ipython",
    "version": 3
   },
   "file_extension": ".py",
   "mimetype": "text/x-python",
   "name": "python",
   "nbconvert_exporter": "python",
   "pygments_lexer": "ipython3",
   "version": "3.6.10"
  }
 },
 "nbformat": 4,
 "nbformat_minor": 4
}
